{
 "cells": [
  {
   "cell_type": "code",
   "execution_count": 3,
   "metadata": {
    "scrolled": true
   },
   "outputs": [],
   "source": [
    "import pandas as pd\n",
    "import seaborn as sns\n",
    "import numpy as np\n",
    "from pandas import DataFrame\n",
    "import matplotlib.pyplot as plt\n",
    "from sklearn.ensemble import RandomForestClassifier, AdaBoostClassifier, VotingClassifier, GradientBoostingClassifier\n",
    "from sklearn.neighbors import KNeighborsClassifier\n",
    "from sklearn.model_selection import GridSearchCV, cross_val_score, RandomizedSearchCV\n",
    "from sklearn.preprocessing import StandardScaler, OneHotEncoder, LabelEncoder\n",
    "from sklearn.linear_model import LogisticRegression, RidgeClassifier\n",
    "from sklearn.svm import SVC\n",
    "from sklearn.decomposition import KernelPCA, PCA\n",
    "from sklearn.discriminant_analysis import LinearDiscriminantAnalysis\n",
    "from sklearn.learning_curve import learning_curve, validation_curve\n",
    "from sklearn.pipeline import Pipeline\n",
    "from sklearn.metrics import roc_curve, auc, confusion_matrix, f1_score, precision_score, recall_score, log_loss\n",
    "from sklearn.cross_validation import train_test_split\n",
    "from keras.models import Sequential\n",
    "from keras.layers.core import Dense, Activation\n",
    "from keras.utils import to_categorical\n",
    "from sklearn.naive_bayes import GaussianNB\n",
    "from sklearn.discriminant_analysis import LinearDiscriminantAnalysis, QuadraticDiscriminantAnalysis"
   ]
  },
  {
   "cell_type": "code",
   "execution_count": 27,
   "metadata": {
    "scrolled": true
   },
   "outputs": [
    {
     "name": "stdout",
     "output_type": "stream",
     "text": [
      "(2500, 6)\n"
     ]
    },
    {
     "data": {
      "text/html": [
       "<div>\n",
       "<style scoped>\n",
       "    .dataframe tbody tr th:only-of-type {\n",
       "        vertical-align: middle;\n",
       "    }\n",
       "\n",
       "    .dataframe tbody tr th {\n",
       "        vertical-align: top;\n",
       "    }\n",
       "\n",
       "    .dataframe thead th {\n",
       "        text-align: right;\n",
       "    }\n",
       "</style>\n",
       "<table border=\"1\" class=\"dataframe\">\n",
       "  <thead>\n",
       "    <tr style=\"text-align: right;\">\n",
       "      <th></th>\n",
       "      <th>MontoCredito</th>\n",
       "      <th>IngresoNeto</th>\n",
       "      <th>CoefCreditoAvaluo</th>\n",
       "      <th>MontoCuota</th>\n",
       "      <th>GradoAcademico</th>\n",
       "      <th>BuenPagador</th>\n",
       "    </tr>\n",
       "    <tr>\n",
       "      <th>id</th>\n",
       "      <th></th>\n",
       "      <th></th>\n",
       "      <th></th>\n",
       "      <th></th>\n",
       "      <th></th>\n",
       "      <th></th>\n",
       "    </tr>\n",
       "  </thead>\n",
       "  <tbody>\n",
       "    <tr>\n",
       "      <th>1</th>\n",
       "      <td>1</td>\n",
       "      <td>1</td>\n",
       "      <td>1</td>\n",
       "      <td>1</td>\n",
       "      <td>1</td>\n",
       "      <td>Si</td>\n",
       "    </tr>\n",
       "    <tr>\n",
       "      <th>2</th>\n",
       "      <td>3</td>\n",
       "      <td>1</td>\n",
       "      <td>1</td>\n",
       "      <td>1</td>\n",
       "      <td>1</td>\n",
       "      <td>Si</td>\n",
       "    </tr>\n",
       "    <tr>\n",
       "      <th>3</th>\n",
       "      <td>2</td>\n",
       "      <td>1</td>\n",
       "      <td>1</td>\n",
       "      <td>1</td>\n",
       "      <td>1</td>\n",
       "      <td>Si</td>\n",
       "    </tr>\n",
       "    <tr>\n",
       "      <th>4</th>\n",
       "      <td>1</td>\n",
       "      <td>2</td>\n",
       "      <td>1</td>\n",
       "      <td>1</td>\n",
       "      <td>1</td>\n",
       "      <td>Si</td>\n",
       "    </tr>\n",
       "  </tbody>\n",
       "</table>\n",
       "</div>"
      ],
      "text/plain": [
       "    MontoCredito  IngresoNeto  CoefCreditoAvaluo  MontoCuota  GradoAcademico  \\\n",
       "id                                                                             \n",
       "1              1            1                  1           1               1   \n",
       "2              3            1                  1           1               1   \n",
       "3              2            1                  1           1               1   \n",
       "4              1            2                  1           1               1   \n",
       "\n",
       "   BuenPagador  \n",
       "id              \n",
       "1           Si  \n",
       "2           Si  \n",
       "3           Si  \n",
       "4           Si  "
      ]
     },
     "execution_count": 27,
     "metadata": {},
     "output_type": "execute_result"
    }
   ],
   "source": [
    "train = pd.read_csv('credit/train.csv', index_col='id')\n",
    "print(train.shape)\n",
    "train.head(4)"
   ]
  },
  {
   "cell_type": "code",
   "execution_count": 20,
   "metadata": {
    "scrolled": false
   },
   "outputs": [
    {
     "name": "stdout",
     "output_type": "stream",
     "text": [
      "(2419, 6)\n"
     ]
    },
    {
     "data": {
      "text/html": [
       "<div>\n",
       "<style scoped>\n",
       "    .dataframe tbody tr th:only-of-type {\n",
       "        vertical-align: middle;\n",
       "    }\n",
       "\n",
       "    .dataframe tbody tr th {\n",
       "        vertical-align: top;\n",
       "    }\n",
       "\n",
       "    .dataframe thead th {\n",
       "        text-align: right;\n",
       "    }\n",
       "</style>\n",
       "<table border=\"1\" class=\"dataframe\">\n",
       "  <thead>\n",
       "    <tr style=\"text-align: right;\">\n",
       "      <th></th>\n",
       "      <th>MontoCredito</th>\n",
       "      <th>IngresoNeto</th>\n",
       "      <th>CoefCreditoAvaluo</th>\n",
       "      <th>MontoCuota</th>\n",
       "      <th>GradoAcademico</th>\n",
       "      <th>BuenPagador</th>\n",
       "    </tr>\n",
       "    <tr>\n",
       "      <th>id</th>\n",
       "      <th></th>\n",
       "      <th></th>\n",
       "      <th></th>\n",
       "      <th></th>\n",
       "      <th></th>\n",
       "      <th></th>\n",
       "    </tr>\n",
       "  </thead>\n",
       "  <tbody>\n",
       "    <tr>\n",
       "      <th>1</th>\n",
       "      <td>1</td>\n",
       "      <td>1</td>\n",
       "      <td>1</td>\n",
       "      <td>1</td>\n",
       "      <td>1</td>\n",
       "      <td>Si</td>\n",
       "    </tr>\n",
       "    <tr>\n",
       "      <th>2</th>\n",
       "      <td>1</td>\n",
       "      <td>1</td>\n",
       "      <td>1</td>\n",
       "      <td>1</td>\n",
       "      <td>1</td>\n",
       "      <td>Si</td>\n",
       "    </tr>\n",
       "    <tr>\n",
       "      <th>3</th>\n",
       "      <td>3</td>\n",
       "      <td>1</td>\n",
       "      <td>1</td>\n",
       "      <td>1</td>\n",
       "      <td>1</td>\n",
       "      <td>Si</td>\n",
       "    </tr>\n",
       "    <tr>\n",
       "      <th>4</th>\n",
       "      <td>4</td>\n",
       "      <td>1</td>\n",
       "      <td>1</td>\n",
       "      <td>1</td>\n",
       "      <td>1</td>\n",
       "      <td>Si</td>\n",
       "    </tr>\n",
       "  </tbody>\n",
       "</table>\n",
       "</div>"
      ],
      "text/plain": [
       "    MontoCredito  IngresoNeto  CoefCreditoAvaluo  MontoCuota  GradoAcademico  \\\n",
       "id                                                                             \n",
       "1              1            1                  1           1               1   \n",
       "2              1            1                  1           1               1   \n",
       "3              3            1                  1           1               1   \n",
       "4              4            1                  1           1               1   \n",
       "\n",
       "   BuenPagador  \n",
       "id              \n",
       "1           Si  \n",
       "2           Si  \n",
       "3           Si  \n",
       "4           Si  "
      ]
     },
     "execution_count": 20,
     "metadata": {},
     "output_type": "execute_result"
    }
   ],
   "source": [
    "test = pd.read_csv('credit/test.csv', index_col='id')\n",
    "print(test.shape)\n",
    "test.head(4)"
   ]
  },
  {
   "cell_type": "code",
   "execution_count": 4,
   "metadata": {
    "scrolled": true
   },
   "outputs": [
    {
     "data": {
      "text/plain": [
       "{'No': 0, 'Si': 1}"
      ]
     },
     "execution_count": 4,
     "metadata": {},
     "output_type": "execute_result"
    }
   ],
   "source": [
    "class_mapping = {label:idx for idx,label in enumerate(np.unique(train['BuenPagador']))}\n",
    "class_mapping"
   ]
  },
  {
   "cell_type": "code",
   "execution_count": 5,
   "metadata": {},
   "outputs": [],
   "source": [
    "train['BuenPagador'] = train['BuenPagador'].map(class_mapping)\n",
    "test['BuenPagador']  = test['BuenPagador'].map(class_mapping)"
   ]
  },
  {
   "cell_type": "code",
   "execution_count": 376,
   "metadata": {
    "scrolled": true
   },
   "outputs": [
    {
     "name": "stdout",
     "output_type": "stream",
     "text": [
      "<class 'pandas.core.frame.DataFrame'>\n",
      "(2500, 5)\n",
      "(2500,)\n",
      "{0, 1}\n",
      "1    2140\n",
      "0     360\n",
      "Name: BuenPagador, dtype: int64\n",
      "Null accuracy =  0.856\n"
     ]
    }
   ],
   "source": [
    "print(type(train))\n",
    "X_train = train.drop('BuenPagador', axis=1)\n",
    "y_train = train['BuenPagador']\n",
    "print(X_train.shape)\n",
    "print(y_train.shape)\n",
    "print(set(y_train))\n",
    "print(y_train.value_counts())\n",
    "print('Null accuracy = ',(y_train.value_counts()[1])/y_train.value_counts().sum())"
   ]
  },
  {
   "cell_type": "code",
   "execution_count": 377,
   "metadata": {
    "scrolled": true
   },
   "outputs": [
    {
     "name": "stdout",
     "output_type": "stream",
     "text": [
      "<class 'pandas.core.frame.DataFrame'>\n",
      "(2419, 5)\n",
      "(2419,)\n",
      "{0, 1}\n",
      "1    2115\n",
      "0     304\n",
      "Name: BuenPagador, dtype: int64\n",
      "Null accuracy =  0.8743282348077718\n"
     ]
    }
   ],
   "source": [
    "print(type(test))\n",
    "X_test = test.drop('BuenPagador', axis=1)\n",
    "y_test = test['BuenPagador']\n",
    "print(X_test.shape)\n",
    "print(y_test.shape)\n",
    "print(set(y_test))\n",
    "print(y_test.value_counts())\n",
    "print('Null accuracy = ',(y_test.value_counts()[1])/y_test.value_counts().sum())"
   ]
  },
  {
   "cell_type": "code",
   "execution_count": 8,
   "metadata": {
    "scrolled": true
   },
   "outputs": [],
   "source": [
    "y_train_ohe=to_categorical(y_train)\n",
    "y_test_ohe =to_categorical(y_test)"
   ]
  },
  {
   "cell_type": "code",
   "execution_count": 9,
   "metadata": {},
   "outputs": [],
   "source": [
    "sc = StandardScaler()\n",
    "X_train_std = sc.fit_transform(X_train)\n",
    "X_test_std  = sc.transform(X_test)"
   ]
  },
  {
   "cell_type": "code",
   "execution_count": 238,
   "metadata": {},
   "outputs": [
    {
     "name": "stdout",
     "output_type": "stream",
     "text": [
      "Train Accuracy  0.8528\n",
      "Test Accuracy   0.8739148408433237\n",
      "F1 score        0.7653348339898705 \n",
      "\n",
      "LDA Train Accuracy  0.852\n",
      "LDA Test  Accuracy  0.8735014468788755\n",
      "LDA F1 score        0.9320905459387483 \n",
      "\n",
      "rf Train Accuracy  0.856\n",
      "rf Test  Accuracy  0.8743282348077718\n",
      "rf F1 score        0.932951036612263\n"
     ]
    }
   ],
   "source": [
    "lr=LogisticRegression()\n",
    "lr.fit(X_train, y_train)\n",
    "print('Train Accuracy ',lr.score(X_train, y_train))\n",
    "print('Test Accuracy  ',lr.score(X_test, y_test))\n",
    "print('F1 score       ',f1_score(y_test, lr.predict(X_test_std)),'\\n')\n",
    "lr=LogisticRegression()\n",
    "lr.fit(X_train_lda, y_train)\n",
    "print('LDA Train Accuracy ',lr.score(X_train_lda, y_train))\n",
    "print('LDA Test  Accuracy ',lr.score(X_test_lda, y_test))\n",
    "print('LDA F1 score       ',f1_score(y_test, lr.predict(X_test_lda)),'\\n')\n",
    "lr=LogisticRegression()\n",
    "lr.fit(X_train_rf, y_train)\n",
    "print('rf Train Accuracy ',lr.score(X_train_rf, y_train))\n",
    "print('rf Test  Accuracy ',lr.score(X_test_rf, y_test))\n",
    "print('rf F1 score       ',f1_score(y_test, lr.predict(X_test_rf)))"
   ]
  },
  {
   "cell_type": "code",
   "execution_count": 13,
   "metadata": {},
   "outputs": [
    {
     "data": {
      "image/png": "[encoded data removed]",
      "text/plain": [
       "<Figure size 432x288 with 1 Axes>"
      ]
     },
     "metadata": {},
     "output_type": "display_data"
    }
   ],
   "source": [
    "param_range = [0.001, 0.01, 0.1, 1.0, 10.0, 100.0]\n",
    "train_scores, test_scores = validation_curve(estimator=lr, X=X_train_std, y=y_train, param_name='C',\n",
    "                                             param_range=param_range,cv=10)\n",
    "train_mean = np.mean(train_scores, axis=1)\n",
    "train_std =  np.std(train_scores, axis=1)\n",
    "test_mean =  np.mean(test_scores, axis=1)\n",
    "test_std =   np.std(test_scores, axis=1)\n",
    "plt.plot(param_range, train_mean,color='blue', marker='o',markersize=5,label='training accuracy')\n",
    "plt.fill_between(param_range, train_mean + train_std,train_mean - train_std, alpha=0.15,color='blue')\n",
    "plt.plot(param_range, test_mean,color='green', linestyle='--',marker='s', markersize=5,label='validation accuracy')\n",
    "plt.fill_between(param_range,test_mean + test_std,test_mean - test_std,alpha=0.15, color='green')\n",
    "plt.grid()\n",
    "#plt.xscale('log')\n",
    "plt.legend(loc='lower right')\n",
    "plt.xlabel('Parameter C')\n",
    "plt.ylabel('Accuracy')\n",
    "plt.ylim([0.7, 1.0])\n",
    "plt.show()"
   ]
  },
  {
   "cell_type": "code",
   "execution_count": 244,
   "metadata": {
    "scrolled": false
   },
   "outputs": [
    {
     "name": "stdout",
     "output_type": "stream",
     "text": [
      "train accuracy:  0.9592\n",
      "test accuracy:   0.9586606035551881\n",
      "F1 score         0.9765147956787223 \n",
      "\n",
      "LDA train accuracy:  0.9592\n",
      "LDA test accuracy:   0.9508061182306738\n",
      "LDA F1 score         0.9720197507641665 \n",
      "\n",
      "PCA train accuracy:  0.9592\n",
      "PCA test accuracy:   0.9520463001240181\n",
      "PCA F1 score         0.972795497185741\n"
     ]
    }
   ],
   "source": [
    "rf = RandomForestClassifier(random_state=None,n_estimators=500, oob_score=True)\n",
    "rf.fit(X_train_std, y_train)\n",
    "print('train accuracy: ',rf.score(X_train_std, y_train))\n",
    "print('test accuracy:  ',rf.score(X_test_std, y_test))\n",
    "print('F1 score        ', f1_score(y_test, rf.predict(X_test_std)),'\\n')\n",
    "rf = RandomForestClassifier(random_state=None,n_estimators=500, oob_score=True)\n",
    "rf.fit(X_train_lda, y_train)\n",
    "print('LDA train accuracy: ',rf.score(X_train_lda, y_train))\n",
    "print('LDA test accuracy:  ',rf.score(X_test_lda, y_test))\n",
    "print('LDA F1 score        ', f1_score(y_test, rf.predict(X_test_lda)),'\\n')\n",
    "rf = RandomForestClassifier(random_state=None,n_estimators=500, oob_score=True)\n",
    "rf.fit(X_train_pca, y_train)\n",
    "print('PCA train accuracy: ',rf.score(X_train_pca, y_train))\n",
    "print('PCA test accuracy:  ',rf.score(X_test_pca, y_test))\n",
    "print('PCA F1 score        ', f1_score(y_test, rf.predict(X_test_pca)))"
   ]
  },
  {
   "cell_type": "code",
   "execution_count": 231,
   "metadata": {
    "scrolled": true
   },
   "outputs": [],
   "source": [
    "X_train_rf=X_train[['GradoAcademico','CoefCreditoAvaluo']]\n",
    "X_test_rf =X_test[['GradoAcademico','CoefCreditoAvaluo']]"
   ]
  },
  {
   "cell_type": "code",
   "execution_count": 230,
   "metadata": {},
   "outputs": [
    {
     "name": "stdout",
     "output_type": "stream",
     "text": [
      "train accuracy:  0.9272\n",
      "test accuracy:   0.9408846630839189\n",
      "F1 score         0.9668904839083121\n"
     ]
    }
   ],
   "source": [
    "rf = RandomForestClassifier(random_state=None,n_estimators=500, oob_score=True)\n",
    "rf.fit(X_train_rf, y_train)\n",
    "print('train accuracy: ',rf.score(X_train_rf, y_train))\n",
    "print('test accuracy:  ',rf.score(X_test_rf, y_test))\n",
    "print('F1 score        ', f1_score(y_test, rf.predict(X_test_rf)))"
   ]
  },
  {
   "cell_type": "code",
   "execution_count": 190,
   "metadata": {},
   "outputs": [
    {
     "data": {
      "image/png": "[encoded data removed]",
      "text/plain": [
       "<Figure size 432x288 with 1 Axes>"
      ]
     },
     "metadata": {},
     "output_type": "display_data"
    }
   ],
   "source": [
    "feat_labels = X_train.columns\n",
    "importances = rf.feature_importances_\n",
    "indices = np.argsort(importances)[::-1]\n",
    "#for f in range(X_train.shape[1]):\n",
    "#    print(\"%2d) %-*s %f\" % (f + 1, 30,feat_labels[indices[f]],importances[indices[f]]))\n",
    "plt.title('Feature Importances')\n",
    "plt.bar(range(X_train.shape[1]),importances[indices],color='lightblue',align='center')\n",
    "plt.xticks(range(X_train.shape[1]),feat_labels[indices], rotation=90)\n",
    "plt.xlim([-1, X_train.shape[1]])\n",
    "plt.tight_layout()\n",
    "plt.show()"
   ]
  },
  {
   "cell_type": "code",
   "execution_count": 192,
   "metadata": {},
   "outputs": [
    {
     "name": "stdout",
     "output_type": "stream",
     "text": [
      "0.8812\n",
      "{'n_neighbors': 5}\n",
      "KNeighborsClassifier(algorithm='auto', leaf_size=30, metric='minkowski',\n",
      "           metric_params=None, n_jobs=1, n_neighbors=5, p=2,\n",
      "           weights='uniform')\n"
     ]
    },
    {
     "data": {
      "image/png": "[encoded data removed]",
      "text/plain": [
       "<Figure size 432x288 with 1 Axes>"
      ]
     },
     "metadata": {},
     "output_type": "display_data"
    }
   ],
   "source": [
    "# create a parameter grid: map the parameter names to the values that should be searched\n",
    "knn = KNeighborsClassifier()\n",
    "k_range = list(range(1, 50))\n",
    "param_grid = dict(n_neighbors=k_range)\n",
    "#print(param_grid)\n",
    "grid = GridSearchCV(knn, param_grid, cv=10, scoring='accuracy', return_train_score=False, n_jobs = -1)\n",
    "grid.fit(X_train_std, y_train)\n",
    "grid_mean_scores = grid.cv_results_['mean_test_score']\n",
    "plt.plot(k_range, grid_mean_scores)\n",
    "plt.xlabel('Value of K for KNN')\n",
    "plt.ylabel('Cross-Validated Accuracy')\n",
    "# examine the best model\n",
    "print(grid.best_score_)\n",
    "print(grid.best_params_)\n",
    "print(grid.best_estimator_)"
   ]
  },
  {
   "cell_type": "code",
   "execution_count": 81,
   "metadata": {
    "scrolled": true
   },
   "outputs": [
    {
     "name": "stdout",
     "output_type": "stream",
     "text": [
      "train  0.9484\n",
      "test   0.9512195121951219\n",
      "F1     0.9723523898781631\n"
     ]
    }
   ],
   "source": [
    "print('train ',grid.score(X_train_std, y_train))\n",
    "print('test  ',grid.score(X_test_std, y_test))\n",
    "print('F1    ', f1_score(y_test, grid.predict(X_test_std)))"
   ]
  },
  {
   "cell_type": "code",
   "execution_count": 232,
   "metadata": {},
   "outputs": [
    {
     "name": "stdout",
     "output_type": "stream",
     "text": [
      "train accuracy:  0.9508\n",
      "test accuracy:   0.961967755270773\n",
      "F1 score         0.9784845650140318 \n",
      "\n",
      "LDA train accuracy:  0.9292\n",
      "LDA test accuracy:   0.9384042992972302\n",
      "LDA F1 score         0.9657234874626179 \n",
      "\n",
      "rf train accuracy:  0.9268\n",
      "rf test accuracy:   0.9425382389417114\n",
      "rf F1 score         0.9677569009510555\n"
     ]
    }
   ],
   "source": [
    "gbt=GradientBoostingClassifier(max_depth=3, n_estimators=50)\n",
    "gbt.fit(X_train_std, y_train)\n",
    "print('train accuracy: ',gbt.score(X_train_std, y_train))\n",
    "print('test accuracy:  ',gbt.score(X_test_std, y_test))\n",
    "print('F1 score        ', f1_score(y_test, gbt.predict(X_test_std)),'\\n')\n",
    "gbt=GradientBoostingClassifier(max_depth=3, n_estimators=50)\n",
    "gbt.fit(X_train_lda, y_train)\n",
    "print('LDA train accuracy: ',gbt.score(X_train_lda, y_train))\n",
    "print('LDA test accuracy:  ',gbt.score(X_test_lda, y_test))\n",
    "print('LDA F1 score        ', f1_score(y_test, gbt.predict(X_test_lda)),'\\n')\n",
    "gbt=GradientBoostingClassifier(max_depth=3, n_estimators=50)\n",
    "gbt.fit(X_train_rf, y_train)\n",
    "print('rf train accuracy: ',gbt.score(X_train_rf, y_train))\n",
    "print('rf test accuracy:  ',gbt.score(X_test_rf, y_test))\n",
    "print('rf F1 score        ', f1_score(y_test, gbt.predict(X_test_rf)))"
   ]
  },
  {
   "cell_type": "code",
   "execution_count": 85,
   "metadata": {},
   "outputs": [
    {
     "name": "stdout",
     "output_type": "stream",
     "text": [
      "train accuracy:  0.9516\n",
      "test accuracy:   0.9603141794129806\n",
      "F1 score         0.9775491113189897\n"
     ]
    },
    {
     "data": {
      "text/plain": [
       "[<matplotlib.lines.Line2D at 0x28d89379f98>]"
      ]
     },
     "execution_count": 85,
     "metadata": {},
     "output_type": "execute_result"
    },
    {
     "data": {
      "image/png": "[encoded data removed]",
      "text/plain": [
       "<Figure size 432x288 with 1 Axes>"
      ]
     },
     "metadata": {},
     "output_type": "display_data"
    }
   ],
   "source": [
    "gbt=GradientBoostingClassifier(max_depth=3, n_estimators=50, subsample=0.8)\n",
    "gbt.fit(X_train_std, y_train)\n",
    "print('train accuracy: ',gbt.score(X_train_std, y_train))\n",
    "print('test accuracy:  ',gbt.score(X_test_std, y_test))\n",
    "print('F1 score        ', f1_score(y_test, gbt.predict(X_test_std)))\n",
    "fig,ax=plt.subplots()\n",
    "ax.plot(gbt.oob_improvement_)"
   ]
  },
  {
   "cell_type": "code",
   "execution_count": 233,
   "metadata": {},
   "outputs": [
    {
     "name": "stdout",
     "output_type": "stream",
     "text": [
      "train accuracy:  0.856\n",
      "test accuracy:   0.8743282348077718\n",
      "F1 score         0.932951036612263 \n",
      "\n",
      "train accuracy:  0.9364\n",
      "test accuracy:   0.9495659363373294\n",
      "F1 score         0.9715750232991612 \n",
      "\n",
      "rf train accuracy:  0.9272\n",
      "rf test accuracy:   0.9417114510128152\n",
      "rf F1 score         0.9673384294649062\n"
     ]
    }
   ],
   "source": [
    "svm = SVC(kernel='linear', random_state=0)\n",
    "svm.fit(X_train_std, y_train)\n",
    "print('train accuracy: ',svm.score(X_train_std, y_train))\n",
    "print('test accuracy:  ',svm.score(X_test_std, y_test))\n",
    "print('F1 score        ', f1_score(y_test, svm.predict(X_test_std)),'\\n')\n",
    "svm = SVC(kernel='rbf', random_state=0)\n",
    "svm.fit(X_train_std, y_train)\n",
    "print('train accuracy: ',svm.score(X_train_std, y_train))\n",
    "print('test accuracy:  ',svm.score(X_test_std, y_test))\n",
    "print('F1 score        ', f1_score(y_test, svm.predict(X_test_std)),'\\n')\n",
    "svm = SVC(kernel='rbf', random_state=0)\n",
    "svm.fit(X_train_rf, y_train)\n",
    "print('rf train accuracy: ',svm.score(X_train_rf, y_train))\n",
    "print('rf test accuracy:  ',svm.score(X_test_rf, y_test))\n",
    "print('rf F1 score        ', f1_score(y_test, svm.predict(X_test_rf)))"
   ]
  },
  {
   "cell_type": "code",
   "execution_count": 234,
   "metadata": {},
   "outputs": [
    {
     "name": "stdout",
     "output_type": "stream",
     "text": [
      "train accuracy:  0.9024\n",
      "test accuracy:   0.9107069036792063\n",
      "F1 score         0.9510204081632653 \n",
      "\n",
      "LDA train accuracy:  0.892\n",
      "LDA test accuracy:   0.9082265398925176\n",
      "LDA F1 score         0.9496370235934665 \n",
      "\n",
      "rf train accuracy:  0.86\n",
      "rf test accuracy:   0.8797023563455973\n",
      "rf F1 score         0.9356052223943351\n"
     ]
    }
   ],
   "source": [
    "boost = AdaBoostClassifier(n_estimators=40)\n",
    "boost.fit(X_train_std, y_train)\n",
    "print('train accuracy: ',boost.score(X_train_std, y_train))\n",
    "print('test accuracy:  ',boost.score(X_test_std, y_test))\n",
    "print('F1 score        ',   f1_score(y_test, boost.predict(X_test_std)),'\\n')\n",
    "boost = AdaBoostClassifier(n_estimators=40)\n",
    "boost.fit(X_train_lda, y_train)\n",
    "print('LDA train accuracy: ',boost.score(X_train_lda, y_train))\n",
    "print('LDA test accuracy:  ',boost.score(X_test_lda, y_test))\n",
    "print('LDA F1 score        ',   f1_score(y_test, boost.predict(X_test_lda)),'\\n')\n",
    "boost = AdaBoostClassifier(n_estimators=40)\n",
    "boost.fit(X_train_rf, y_train)\n",
    "print('rf train accuracy: ',boost.score(X_train_rf, y_train))\n",
    "print('rf test accuracy:  ',boost.score(X_test_rf, y_test))\n",
    "print('rf F1 score        ',   f1_score(y_test, boost.predict(X_test_rf)))"
   ]
  },
  {
   "cell_type": "code",
   "execution_count": 50,
   "metadata": {},
   "outputs": [],
   "source": [
    "model=Sequential()\n",
    "model.add(Dense(20, input_dim=X_train.shape[1], activation='relu'))\n",
    "model.add(Dense(10, activation='relu'))\n",
    "model.add(Dense(100, activation='relu'))\n",
    "model.add(Dense(30, activation='relu'))\n",
    "model.add(Dense(100, activation='relu'))\n",
    "model.add(Dense(2, activation='softmax'))\n",
    "model.compile(loss='categorical_crossentropy', optimizer='adam', metrics=['accuracy'])"
   ]
  },
  {
   "cell_type": "code",
   "execution_count": 54,
   "metadata": {
    "scrolled": true
   },
   "outputs": [
    {
     "name": "stdout",
     "output_type": "stream",
     "text": [
      "Train on 2500 samples, validate on 2419 samples\n",
      "Epoch 1/5\n",
      "2500/2500 [==============================] - 0s 74us/step - loss: 0.1401 - acc: 0.9536 - val_loss: 0.1399 - val_acc: 0.9591\n",
      "Epoch 2/5\n",
      "2500/2500 [==============================] - 0s 74us/step - loss: 0.1416 - acc: 0.9520 - val_loss: 0.1505 - val_acc: 0.9570\n",
      "Epoch 3/5\n",
      "2500/2500 [==============================] - 0s 66us/step - loss: 0.1400 - acc: 0.9508 - val_loss: 0.1350 - val_acc: 0.9616\n",
      "Epoch 4/5\n",
      "2500/2500 [==============================] - 0s 68us/step - loss: 0.1404 - acc: 0.9548 - val_loss: 0.1385 - val_acc: 0.9595\n",
      "Epoch 5/5\n",
      "2500/2500 [==============================] - 0s 79us/step - loss: 0.1378 - acc: 0.9536 - val_loss: 0.1382 - val_acc: 0.9628\n"
     ]
    },
    {
     "data": {
      "text/plain": [
       "<keras.callbacks.History at 0x28d80c530b8>"
      ]
     },
     "execution_count": 54,
     "metadata": {},
     "output_type": "execute_result"
    }
   ],
   "source": [
    "model.fit(X_train_std, y_train_ohe, validation_data=(X_test_std, y_test_ohe), epochs=5)"
   ]
  },
  {
   "cell_type": "code",
   "execution_count": 294,
   "metadata": {
    "scrolled": true
   },
   "outputs": [
    {
     "name": "stdout",
     "output_type": "stream",
     "text": [
      "2419/2419 [==============================] - 0s 36us/step\n",
      "[0.13824892637896213, 0.9627945434214311]\n",
      "F1 score         0.9789424426766495\n",
      "Precision        0.9689671144048171\n",
      "Recall           0.9891252955082742\n"
     ]
    },
    {
     "data": {
      "image/png": "[encoded data removed]",
      "text/plain": [
       "<Figure size 288x288 with 1 Axes>"
      ]
     },
     "metadata": {},
     "output_type": "display_data"
    }
   ],
   "source": [
    "y_pred=model.predict_classes(X_test_std)\n",
    "print(model.evaluate(X_test_std, y_test_ohe))\n",
    "print('F1 score        ', f1_score(y_test, y_pred))\n",
    "print('Precision       ', precision_score(y_test, y_pred))\n",
    "print('Recall          ', recall_score(y_test, y_pred))\n",
    "confmat = confusion_matrix(y_true=y_test, y_pred=y_pred)\n",
    "fig, ax = plt.subplots(figsize=(4, 4))\n",
    "ax.matshow(confmat, cmap=plt.cm.Blues, alpha=2)\n",
    "for i in range(confmat.shape[0]):\n",
    "    for j in range(confmat.shape[1]):\n",
    "        ax.text(x=j, y=i,s=confmat[i, j],va='center', ha='center')\n",
    "plt.xlabel('predicted label')\n",
    "plt.ylabel('true label')\n",
    "plt.show()"
   ]
  },
  {
   "cell_type": "code",
   "execution_count": 236,
   "metadata": {
    "scrolled": true
   },
   "outputs": [
    {
     "name": "stderr",
     "output_type": "stream",
     "text": [
      "C:\\Users\\Boris\\Anaconda2\\envs\\py36\\lib\\site-packages\\sklearn\\preprocessing\\label.py:151: DeprecationWarning: The truth value of an empty array is ambiguous. Returning False, but in future this will result in an error. Use `array.size > 0` to check that an array is not empty.\n",
      "  if diff:\n"
     ]
    },
    {
     "name": "stdout",
     "output_type": "stream",
     "text": [
      "train accuracy:  0.9548\n"
     ]
    },
    {
     "name": "stderr",
     "output_type": "stream",
     "text": [
      "C:\\Users\\Boris\\Anaconda2\\envs\\py36\\lib\\site-packages\\sklearn\\preprocessing\\label.py:151: DeprecationWarning: The truth value of an empty array is ambiguous. Returning False, but in future this will result in an error. Use `array.size > 0` to check that an array is not empty.\n",
      "  if diff:\n"
     ]
    },
    {
     "name": "stdout",
     "output_type": "stream",
     "text": [
      "test accuracy:   0.9615543613063249\n"
     ]
    },
    {
     "name": "stderr",
     "output_type": "stream",
     "text": [
      "C:\\Users\\Boris\\Anaconda2\\envs\\py36\\lib\\site-packages\\sklearn\\preprocessing\\label.py:151: DeprecationWarning: The truth value of an empty array is ambiguous. Returning False, but in future this will result in an error. Use `array.size > 0` to check that an array is not empty.\n",
      "  if diff:\n"
     ]
    },
    {
     "name": "stdout",
     "output_type": "stream",
     "text": [
      "F1 score         0.9782354317809502 \n",
      "\n"
     ]
    },
    {
     "name": "stderr",
     "output_type": "stream",
     "text": [
      "C:\\Users\\Boris\\Anaconda2\\envs\\py36\\lib\\site-packages\\sklearn\\preprocessing\\label.py:151: DeprecationWarning: The truth value of an empty array is ambiguous. Returning False, but in future this will result in an error. Use `array.size > 0` to check that an array is not empty.\n",
      "  if diff:\n"
     ]
    },
    {
     "name": "stdout",
     "output_type": "stream",
     "text": [
      "LDA Train Accuracy  0.9308\n"
     ]
    },
    {
     "name": "stderr",
     "output_type": "stream",
     "text": [
      "C:\\Users\\Boris\\Anaconda2\\envs\\py36\\lib\\site-packages\\sklearn\\preprocessing\\label.py:151: DeprecationWarning: The truth value of an empty array is ambiguous. Returning False, but in future this will result in an error. Use `array.size > 0` to check that an array is not empty.\n",
      "  if diff:\n"
     ]
    },
    {
     "name": "stdout",
     "output_type": "stream",
     "text": [
      "LDA Test  Accuracy  0.9388176932616784\n"
     ]
    },
    {
     "name": "stderr",
     "output_type": "stream",
     "text": [
      "C:\\Users\\Boris\\Anaconda2\\envs\\py36\\lib\\site-packages\\sklearn\\preprocessing\\label.py:151: DeprecationWarning: The truth value of an empty array is ambiguous. Returning False, but in future this will result in an error. Use `array.size > 0` to check that an array is not empty.\n",
      "  if diff:\n"
     ]
    },
    {
     "name": "stdout",
     "output_type": "stream",
     "text": [
      "LDA F1 score        0.965961361545538 \n",
      "\n"
     ]
    },
    {
     "name": "stderr",
     "output_type": "stream",
     "text": [
      "C:\\Users\\Boris\\Anaconda2\\envs\\py36\\lib\\site-packages\\sklearn\\preprocessing\\label.py:151: DeprecationWarning: The truth value of an empty array is ambiguous. Returning False, but in future this will result in an error. Use `array.size > 0` to check that an array is not empty.\n",
      "  if diff:\n"
     ]
    },
    {
     "name": "stdout",
     "output_type": "stream",
     "text": [
      "rf Train Accuracy  0.9272\n"
     ]
    },
    {
     "name": "stderr",
     "output_type": "stream",
     "text": [
      "C:\\Users\\Boris\\Anaconda2\\envs\\py36\\lib\\site-packages\\sklearn\\preprocessing\\label.py:151: DeprecationWarning: The truth value of an empty array is ambiguous. Returning False, but in future this will result in an error. Use `array.size > 0` to check that an array is not empty.\n",
      "  if diff:\n",
      "C:\\Users\\Boris\\Anaconda2\\envs\\py36\\lib\\site-packages\\sklearn\\preprocessing\\label.py:151: DeprecationWarning: The truth value of an empty array is ambiguous. Returning False, but in future this will result in an error. Use `array.size > 0` to check that an array is not empty.\n",
      "  if diff:\n"
     ]
    },
    {
     "name": "stdout",
     "output_type": "stream",
     "text": [
      "rf Test  Accuracy  0.9417114510128152\n",
      "rf F1 score        0.9673384294649062\n"
     ]
    }
   ],
   "source": [
    "eclf1 = VotingClassifier(estimators=[('rf', rf), ('gbt', gbt), ('svm', svm)], voting='hard')\n",
    "eclf1 = eclf1.fit(X_train_std, y_train)\n",
    "print('train accuracy: ',eclf1.score(X_train_std, y_train))\n",
    "print('test accuracy:  ',eclf1.score(X_test_std, y_test))\n",
    "print('F1 score        ', f1_score(y_test, eclf1.predict(X_test_std)),'\\n')\n",
    "eclf1 = VotingClassifier(estimators=[('rf', rf), ('gbt', gbt), ('svm', svm)], voting='hard')\n",
    "eclf1 = eclf1.fit(X_train_lda, y_train)\n",
    "print('LDA Train Accuracy ',eclf1.score(X_train_lda, y_train))\n",
    "print('LDA Test  Accuracy ',eclf1.score(X_test_lda, y_test))\n",
    "print('LDA F1 score       ',f1_score(y_test, eclf1.predict(X_test_lda)),'\\n')\n",
    "eclf1 = VotingClassifier(estimators=[('rf', rf), ('gbt', gbt), ('svm', svm)], voting='hard')\n",
    "eclf1 = eclf1.fit(X_train_rf, y_train)\n",
    "print('rf Train Accuracy ',eclf1.score(X_train_rf, y_train))\n",
    "print('rf Test  Accuracy ',eclf1.score(X_test_rf, y_test))\n",
    "print('rf F1 score       ',f1_score(y_test, eclf1.predict(X_test_rf)))"
   ]
  },
  {
   "cell_type": "code",
   "execution_count": 140,
   "metadata": {},
   "outputs": [
    {
     "name": "stdout",
     "output_type": "stream",
     "text": [
      "train accuracy:  0.8564\n",
      "test accuracy:   0.875155022736668\n",
      "F1 score         0.9333627537511032\n"
     ]
    }
   ],
   "source": [
    "ridge=RidgeClassifier()\n",
    "ridge.fit(X_train_std, y_train)\n",
    "print('train accuracy: ',ridge.score(X_train_std, y_train))\n",
    "print('test accuracy:  ',ridge.score(X_test_std, y_test))\n",
    "print('F1 score        ', f1_score(y_test, ridge.predict(X_test_std)))"
   ]
  },
  {
   "cell_type": "code",
   "execution_count": 298,
   "metadata": {},
   "outputs": [
    {
     "name": "stdout",
     "output_type": "stream",
     "text": [
      "LDA train accuracy:  0.8448\n",
      "LDA test accuracy:   0.8656469615543613\n",
      "LDA F1 score         0.9274067455885638 \n",
      "\n",
      "QDA train accuracy:  0.8596\n",
      "QDA test accuracy:   0.8685407193054981\n",
      "QDA F1 score         0.9271310724106324\n"
     ]
    }
   ],
   "source": [
    "lda = LinearDiscriminantAnalysis()\n",
    "lda.fit(X_train_std, y_train)\n",
    "print('LDA train accuracy: ',lda.score(X_train_std, y_train))\n",
    "print('LDA test accuracy:  ',lda.score(X_test_std, y_test))\n",
    "print('LDA F1 score        ', f1_score(y_test, lda.predict(X_test_std)),'\\n')\n",
    "qda = QuadraticDiscriminantAnalysis()\n",
    "qda.fit(X_train_std, y_train)\n",
    "print('QDA train accuracy: ',qda.score(X_train_std, y_train))\n",
    "print('QDA test accuracy:  ',qda.score(X_test_std, y_test))\n",
    "print('QDA F1 score        ', f1_score(y_test, qda.predict(X_test_std)))"
   ]
  },
  {
   "cell_type": "code",
   "execution_count": 178,
   "metadata": {},
   "outputs": [],
   "source": [
    "X_train_lda = lda.fit_transform(X_train_std, y_train)\n",
    "X_test_lda  = lda.transform(X_test_std)"
   ]
  },
  {
   "cell_type": "code",
   "execution_count": 243,
   "metadata": {},
   "outputs": [],
   "source": [
    "pca = PCA(n_components=2)\n",
    "X_train_pca = pca.fit_transform(X_train_std)\n",
    "X_test_pca =  pca.transform(X_test_std)"
   ]
  },
  {
   "cell_type": "code",
   "execution_count": 219,
   "metadata": {},
   "outputs": [
    {
     "data": {
      "text/plain": [
       "array([0.28160963, 0.24828369, 0.20466785, 0.14830646, 0.11713236])"
      ]
     },
     "execution_count": 219,
     "metadata": {},
     "output_type": "execute_result"
    }
   ],
   "source": [
    "pca.explained_variance_ratio_"
   ]
  },
  {
   "cell_type": "code",
   "execution_count": 371,
   "metadata": {
    "scrolled": false
   },
   "outputs": [
    {
     "name": "stdout",
     "output_type": "stream",
     "text": [
      "(81, 1)\n",
      "   Prediction\n",
      "id           \n",
      "1          Si\n",
      "2          Si\n",
      "3          Si\n"
     ]
    }
   ],
   "source": [
    "predict=pd.read_csv('credit/nuevos_individuos_credito.csv', index_col='id')\n",
    "X_predict = predict.drop('BuenPagador', axis=1)\n",
    "y_pred=model.predict_classes(X_predict)\n",
    "sub = X_predict.loc[:, []]\n",
    "sub['Prediction']=y_pred\n",
    "print(sub.shape)\n",
    "class_mapping={0:'No', 1:'Si'}\n",
    "sub['Prediction']=sub['Prediction'].map(class_mapping)\n",
    "print(sub[:3])\n",
    "sub.to_csv('credit/submission.csv')"
   ]
  }
 ],
 "metadata": {
  "kernelspec": {
   "display_name": "Python 3",
   "language": "python",
   "name": "python3"
  },
  "language_info": {
   "codemirror_mode": {
    "name": "ipython",
    "version": 3
   },
   "file_extension": ".py",
   "mimetype": "text/x-python",
   "name": "python",
   "nbconvert_exporter": "python",
   "pygments_lexer": "ipython3",
   "version": "3.6.5"
  }
 },
 "nbformat": 4,
 "nbformat_minor": 2
}
